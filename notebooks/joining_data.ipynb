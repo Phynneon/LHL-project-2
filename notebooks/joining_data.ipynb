{
 "cells": [
  {
   "cell_type": "code",
   "execution_count": 82,
   "metadata": {},
   "outputs": [],
   "source": [
    "#import\n",
    "import numpy as np\n",
    "import pandas as pd\n",
    "import sqlite3 as sq3\n",
    "from sqlite3 import Error\n",
    "import requests\n",
    "import os\n",
    "import matplotlib.pyplot as plt\n"
   ]
  },
  {
   "cell_type": "markdown",
   "metadata": {},
   "source": [
    "Join the data from Part 1 with the data from Part 2 to create a new dataframe."
   ]
  },
  {
   "cell_type": "code",
   "execution_count": 2,
   "metadata": {},
   "outputs": [],
   "source": [
    "#importing the data from part 1 and 2\n",
    "bike_data = pd.read_csv('bike_data.csv')\n",
    "fsquare_data = pd.read_csv('foursquare_food.csv')\n",
    "yelp_data = pd.read_csv('yelp_food.csv')"
   ]
  },
  {
   "cell_type": "code",
   "execution_count": 4,
   "metadata": {},
   "outputs": [
    {
     "data": {
      "text/html": [
       "<div>\n",
       "<style scoped>\n",
       "    .dataframe tbody tr th:only-of-type {\n",
       "        vertical-align: middle;\n",
       "    }\n",
       "\n",
       "    .dataframe tbody tr th {\n",
       "        vertical-align: top;\n",
       "    }\n",
       "\n",
       "    .dataframe thead th {\n",
       "        text-align: right;\n",
       "    }\n",
       "</style>\n",
       "<table border=\"1\" class=\"dataframe\">\n",
       "  <thead>\n",
       "    <tr style=\"text-align: right;\">\n",
       "      <th></th>\n",
       "      <th>name</th>\n",
       "      <th>empty_slots</th>\n",
       "      <th>free_bikes</th>\n",
       "      <th>latitude</th>\n",
       "      <th>longitude</th>\n",
       "      <th>total_bike</th>\n",
       "    </tr>\n",
       "  </thead>\n",
       "  <tbody>\n",
       "    <tr>\n",
       "      <th>0</th>\n",
       "      <td>Grand Marché</td>\n",
       "      <td>7</td>\n",
       "      <td>8</td>\n",
       "      <td>46.829433</td>\n",
       "      <td>-71.244066</td>\n",
       "      <td>15</td>\n",
       "    </tr>\n",
       "    <tr>\n",
       "      <th>1</th>\n",
       "      <td>Parc Lockwell</td>\n",
       "      <td>10</td>\n",
       "      <td>9</td>\n",
       "      <td>46.806196</td>\n",
       "      <td>-71.226874</td>\n",
       "      <td>19</td>\n",
       "    </tr>\n",
       "    <tr>\n",
       "      <th>2</th>\n",
       "      <td>Musée national des beaux-arts</td>\n",
       "      <td>17</td>\n",
       "      <td>2</td>\n",
       "      <td>46.801457</td>\n",
       "      <td>-71.226205</td>\n",
       "      <td>19</td>\n",
       "    </tr>\n",
       "    <tr>\n",
       "      <th>3</th>\n",
       "      <td>Grand Théâtre</td>\n",
       "      <td>12</td>\n",
       "      <td>2</td>\n",
       "      <td>46.805593</td>\n",
       "      <td>-71.221479</td>\n",
       "      <td>14</td>\n",
       "    </tr>\n",
       "    <tr>\n",
       "      <th>4</th>\n",
       "      <td>Parc de l'Esplanade</td>\n",
       "      <td>15</td>\n",
       "      <td>0</td>\n",
       "      <td>46.810506</td>\n",
       "      <td>-71.210669</td>\n",
       "      <td>15</td>\n",
       "    </tr>\n",
       "  </tbody>\n",
       "</table>\n",
       "</div>"
      ],
      "text/plain": [
       "                            name  empty_slots  free_bikes   latitude  \\\n",
       "0                   Grand Marché            7           8  46.829433   \n",
       "1                  Parc Lockwell           10           9  46.806196   \n",
       "2  Musée national des beaux-arts           17           2  46.801457   \n",
       "3                  Grand Théâtre           12           2  46.805593   \n",
       "4            Parc de l'Esplanade           15           0  46.810506   \n",
       "\n",
       "   longitude  total_bike  \n",
       "0 -71.244066          15  \n",
       "1 -71.226874          19  \n",
       "2 -71.226205          19  \n",
       "3 -71.221479          14  \n",
       "4 -71.210669          15  "
      ]
     },
     "execution_count": 4,
     "metadata": {},
     "output_type": "execute_result"
    }
   ],
   "source": [
    "bike_data.head()"
   ]
  },
  {
   "cell_type": "code",
   "execution_count": 6,
   "metadata": {},
   "outputs": [
    {
     "data": {
      "text/html": [
       "<div>\n",
       "<style scoped>\n",
       "    .dataframe tbody tr th:only-of-type {\n",
       "        vertical-align: middle;\n",
       "    }\n",
       "\n",
       "    .dataframe tbody tr th {\n",
       "        vertical-align: top;\n",
       "    }\n",
       "\n",
       "    .dataframe thead th {\n",
       "        text-align: right;\n",
       "    }\n",
       "</style>\n",
       "<table border=\"1\" class=\"dataframe\">\n",
       "  <thead>\n",
       "    <tr style=\"text-align: right;\">\n",
       "      <th></th>\n",
       "      <th>name</th>\n",
       "      <th>country</th>\n",
       "      <th>locality</th>\n",
       "      <th>near_station</th>\n",
       "    </tr>\n",
       "  </thead>\n",
       "  <tbody>\n",
       "    <tr>\n",
       "      <th>0</th>\n",
       "      <td>Brasserie a la Source Martinière</td>\n",
       "      <td>CA</td>\n",
       "      <td>Québec</td>\n",
       "      <td>Grand Marché</td>\n",
       "    </tr>\n",
       "    <tr>\n",
       "      <th>1</th>\n",
       "      <td>Chez Mai</td>\n",
       "      <td>CA</td>\n",
       "      <td>Québec</td>\n",
       "      <td>Grand Marché</td>\n",
       "    </tr>\n",
       "    <tr>\n",
       "      <th>2</th>\n",
       "      <td>Frite Alors</td>\n",
       "      <td>CA</td>\n",
       "      <td>Québec</td>\n",
       "      <td>Parc Lockwell</td>\n",
       "    </tr>\n",
       "    <tr>\n",
       "      <th>3</th>\n",
       "      <td>Chez Victor</td>\n",
       "      <td>CA</td>\n",
       "      <td>Québec</td>\n",
       "      <td>Parc Lockwell</td>\n",
       "    </tr>\n",
       "    <tr>\n",
       "      <th>4</th>\n",
       "      <td>Café Sirocco</td>\n",
       "      <td>CA</td>\n",
       "      <td>Québec</td>\n",
       "      <td>Parc Lockwell</td>\n",
       "    </tr>\n",
       "  </tbody>\n",
       "</table>\n",
       "</div>"
      ],
      "text/plain": [
       "                               name country locality   near_station\n",
       "0  Brasserie a la Source Martinière      CA   Québec   Grand Marché\n",
       "1                          Chez Mai      CA   Québec   Grand Marché\n",
       "2                       Frite Alors      CA   Québec  Parc Lockwell\n",
       "3                       Chez Victor      CA   Québec  Parc Lockwell\n",
       "4                      Café Sirocco      CA   Québec  Parc Lockwell"
      ]
     },
     "execution_count": 6,
     "metadata": {},
     "output_type": "execute_result"
    }
   ],
   "source": [
    "fsquare_data.head()"
   ]
  },
  {
   "cell_type": "code",
   "execution_count": 8,
   "metadata": {},
   "outputs": [
    {
     "data": {
      "text/html": [
       "<div>\n",
       "<style scoped>\n",
       "    .dataframe tbody tr th:only-of-type {\n",
       "        vertical-align: middle;\n",
       "    }\n",
       "\n",
       "    .dataframe tbody tr th {\n",
       "        vertical-align: top;\n",
       "    }\n",
       "\n",
       "    .dataframe thead th {\n",
       "        text-align: right;\n",
       "    }\n",
       "</style>\n",
       "<table border=\"1\" class=\"dataframe\">\n",
       "  <thead>\n",
       "    <tr style=\"text-align: right;\">\n",
       "      <th></th>\n",
       "      <th>name</th>\n",
       "      <th>country</th>\n",
       "      <th>city</th>\n",
       "      <th>review_count</th>\n",
       "      <th>rating</th>\n",
       "      <th>near_station</th>\n",
       "    </tr>\n",
       "  </thead>\n",
       "  <tbody>\n",
       "    <tr>\n",
       "      <th>0</th>\n",
       "      <td>Casa Calzone</td>\n",
       "      <td>CA</td>\n",
       "      <td>Quebec City</td>\n",
       "      <td>24</td>\n",
       "      <td>5.0</td>\n",
       "      <td>Grand Marché</td>\n",
       "    </tr>\n",
       "    <tr>\n",
       "      <th>1</th>\n",
       "      <td>Chez Carlos Café</td>\n",
       "      <td>CA</td>\n",
       "      <td>Quebec City</td>\n",
       "      <td>6</td>\n",
       "      <td>5.0</td>\n",
       "      <td>Grand Marché</td>\n",
       "    </tr>\n",
       "    <tr>\n",
       "      <th>2</th>\n",
       "      <td>Resto la Mama Grilled Cheese</td>\n",
       "      <td>CA</td>\n",
       "      <td>Québec City</td>\n",
       "      <td>5</td>\n",
       "      <td>4.5</td>\n",
       "      <td>Grand Marché</td>\n",
       "    </tr>\n",
       "    <tr>\n",
       "      <th>3</th>\n",
       "      <td>Sous-Marins le Marinier</td>\n",
       "      <td>CA</td>\n",
       "      <td>Quebec City</td>\n",
       "      <td>3</td>\n",
       "      <td>5.0</td>\n",
       "      <td>Grand Marché</td>\n",
       "    </tr>\n",
       "    <tr>\n",
       "      <th>4</th>\n",
       "      <td>Nguyen</td>\n",
       "      <td>CA</td>\n",
       "      <td>Quebec City</td>\n",
       "      <td>2</td>\n",
       "      <td>5.0</td>\n",
       "      <td>Grand Marché</td>\n",
       "    </tr>\n",
       "  </tbody>\n",
       "</table>\n",
       "</div>"
      ],
      "text/plain": [
       "                           name country         city  review_count  rating  \\\n",
       "0                  Casa Calzone      CA  Quebec City            24     5.0   \n",
       "1              Chez Carlos Café      CA  Quebec City             6     5.0   \n",
       "2  Resto la Mama Grilled Cheese      CA  Québec City             5     4.5   \n",
       "3       Sous-Marins le Marinier      CA  Quebec City             3     5.0   \n",
       "4                        Nguyen      CA  Quebec City             2     5.0   \n",
       "\n",
       "   near_station  \n",
       "0  Grand Marché  \n",
       "1  Grand Marché  \n",
       "2  Grand Marché  \n",
       "3  Grand Marché  \n",
       "4  Grand Marché  "
      ]
     },
     "execution_count": 8,
     "metadata": {},
     "output_type": "execute_result"
    }
   ],
   "source": [
    "yelp_data.head()"
   ]
  },
  {
   "cell_type": "code",
   "execution_count": 12,
   "metadata": {},
   "outputs": [],
   "source": [
    "#joining the bike and yelp data\n",
    "yelp_full_data = yelp_data.join(bike_data.set_index('name'), on='near_station')"
   ]
  },
  {
   "cell_type": "code",
   "execution_count": null,
   "metadata": {},
   "outputs": [],
   "source": [
    "#visualizing the data\n",
    "yelp_full_data"
   ]
  },
  {
   "cell_type": "code",
   "execution_count": 109,
   "metadata": {},
   "outputs": [],
   "source": [
    "#extracting the data to a csv file\n",
    "yelp_full_data.to_csv('yelp df.csv', index=False)"
   ]
  },
  {
   "cell_type": "code",
   "execution_count": 15,
   "metadata": {},
   "outputs": [],
   "source": [
    "#joining the bike and foursquare data\n",
    "fsquare_full_data = fsquare_data.join(bike_data.set_index('name'), on='near_station')"
   ]
  },
  {
   "cell_type": "code",
   "execution_count": null,
   "metadata": {},
   "outputs": [],
   "source": [
    "#visualizing the data\n",
    "fsquare_full_data"
   ]
  },
  {
   "cell_type": "code",
   "execution_count": 110,
   "metadata": {},
   "outputs": [],
   "source": [
    "#extracting the data to a csv file\n",
    "fsquare_full_data.to_csv('Fsquare df.csv', index=False)"
   ]
  },
  {
   "cell_type": "markdown",
   "metadata": {},
   "source": [
    "Provide a visualization that you used as part of your EDA process. Explain the initial pattern or relationship you discoved through this visualization. "
   ]
  },
  {
   "cell_type": "code",
   "execution_count": 113,
   "metadata": {},
   "outputs": [],
   "source": [
    "#setting up numbers of bikes and number of nearby restaurants as variables of interest\n",
    "nearby_resto = fsquare_full_data.groupby(by='near_station').count()['name'].sort_values()\n",
    "bike_num = fsquare_full_data[['near_station','total_bike']].drop_duplicates(keep='first')"
   ]
  },
  {
   "cell_type": "code",
   "execution_count": 114,
   "metadata": {},
   "outputs": [
    {
     "data": {
      "text/plain": [
       "Text(0, 0.5, 'number of restaurant nearby')"
      ]
     },
     "execution_count": 114,
     "metadata": {},
     "output_type": "execute_result"
    },
    {
     "data": {
      "image/png": "[encoded data removed]",
      "text/plain": [
       "<Figure size 640x480 with 1 Axes>"
      ]
     },
     "metadata": {},
     "output_type": "display_data"
    }
   ],
   "source": [
    "x = bike_num['total_bike']\n",
    "y = nearby_resto\n",
    "\n",
    "plt.scatter(x,y)\n",
    "plt.xlabel('total bikes')\n",
    "plt.ylabel('number of restaurant nearby')"
   ]
  },
  {
   "cell_type": "code",
   "execution_count": 116,
   "metadata": {},
   "outputs": [
    {
     "data": {
      "text/plain": [
       "Text(0, 0.5, 'review counts')"
      ]
     },
     "execution_count": 116,
     "metadata": {},
     "output_type": "execute_result"
    },
    {
     "data": {
      "image/png": "[encoded data removed]",
      "text/plain": [
       "<Figure size 640x480 with 1 Axes>"
      ]
     },
     "metadata": {},
     "output_type": "display_data"
    }
   ],
   "source": [
    "#relationship between number of bikes and review counts of restaurant nearby\n",
    "review_num = yelp_full_data['review_count'].sort_values()\n",
    "\n",
    "x = yelp_full_data['total_bike']\n",
    "y = review_num\n",
    "\n",
    "plt.scatter(x,y)\n",
    "plt.xlabel('total bikes')\n",
    "plt.ylabel('review counts')"
   ]
  },
  {
   "cell_type": "code",
   "execution_count": 117,
   "metadata": {},
   "outputs": [
    {
     "data": {
      "text/plain": [
       "Text(0, 0.5, 'ratings')"
      ]
     },
     "execution_count": 117,
     "metadata": {},
     "output_type": "execute_result"
    },
    {
     "data": {
      "image/png": "[encoded data removed]",
      "text/plain": [
       "<Figure size 640x480 with 1 Axes>"
      ]
     },
     "metadata": {},
     "output_type": "display_data"
    }
   ],
   "source": [
    "#Relationship between bike number and rating of restaurants nearby\n",
    "rating = yelp_full_data['rating'].sort_values()\n",
    "\n",
    "x = yelp_full_data['total_bike']\n",
    "y = rating\n",
    "\n",
    "plt.scatter(x,y)\n",
    "plt.xlabel('total bikes')\n",
    "plt.ylabel('ratings')"
   ]
  },
  {
   "cell_type": "code",
   "execution_count": 120,
   "metadata": {},
   "outputs": [
    {
     "data": {
      "text/plain": [
       "Text(0, 0.5, 'number of restaurants nearby')"
      ]
     },
     "execution_count": 120,
     "metadata": {},
     "output_type": "execute_result"
    },
    {
     "data": {
      "image/png": "[encoded data removed]",
      "text/plain": [
       "<Figure size 640x480 with 1 Axes>"
      ]
     },
     "metadata": {},
     "output_type": "display_data"
    }
   ],
   "source": [
    "#Relationship between bike number and nearby restaurant from Yelp\n",
    "yelp_nearby_resto = yelp_full_data.groupby(by='near_station').count()['name'].sort_values()\n",
    "yelp_bike_num = yelp_full_data[['near_station','total_bike']].drop_duplicates(keep='first')\n",
    "\n",
    "x = yelp_bike_num['total_bike']\n",
    "y = yelp_nearby_resto\n",
    "\n",
    "plt.scatter(x,y)\n",
    "plt.xlabel('total bikes')\n",
    "plt.ylabel('number of restaurants nearby')"
   ]
  },
  {
   "cell_type": "markdown",
   "metadata": {},
   "source": [
    "# Database"
   ]
  },
  {
   "cell_type": "markdown",
   "metadata": {},
   "source": [
    "Put all your results in an SQLite3 database (remember, SQLite stores its databases as files in your local machine - make sure to create your database in your project's data/ directory!)"
   ]
  },
  {
   "cell_type": "code",
   "execution_count": 85,
   "metadata": {},
   "outputs": [],
   "source": [
    "#Function to create a connection to a database\n",
    "def create_connection(path):\n",
    "    connection = None\n",
    "    try:\n",
    "        connection = sq3.connect(path)\n",
    "        print(\"Connection to SQLite DB successful\")\n",
    "    except Error as e:\n",
    "        print(f\"The error '{e}' occured\")\n",
    "    \n",
    "    return connection"
   ]
  },
  {
   "cell_type": "code",
   "execution_count": 87,
   "metadata": {},
   "outputs": [
    {
     "name": "stdout",
     "output_type": "stream",
     "text": [
      "Connection to SQLite DB successful\n"
     ]
    }
   ],
   "source": [
    "#connecting to the database(or creating one)\n",
    "connection = create_connection('LHL_project2')"
   ]
  },
  {
   "cell_type": "code",
   "execution_count": 83,
   "metadata": {},
   "outputs": [],
   "source": [
    "#function to send a query as command to the database\n",
    "def execute_query(connection, query):\n",
    "    cursor = connection.cursor()\n",
    "    try:\n",
    "        cursor.execute(query)\n",
    "        connection.commit()\n",
    "        print(\"Query executed successfully\")\n",
    "    except Error as e:\n",
    "        print(f\"The error '{e}' occurred\")"
   ]
  },
  {
   "cell_type": "code",
   "execution_count": 88,
   "metadata": {},
   "outputs": [
    {
     "name": "stdout",
     "output_type": "stream",
     "text": [
      "Query executed successfully\n"
     ]
    }
   ],
   "source": [
    "#Creating the Yelp table inside the database\n",
    "query = \"\"\"CREATE TABLE IF NOT EXISTS yelp_search(\n",
    "            name VARCHAR,\n",
    "            country TEXT,\n",
    "            city TEXT,\n",
    "            review_count INT,\n",
    "            rating FLOAT,\n",
    "            near_station VARCHAR,\n",
    "            empty_slots INT,\n",
    "            free_bikes INT,\n",
    "            latitude FLOAT,\n",
    "            longitude FLOAT,\n",
    "            total_bike INT)\n",
    "\"\"\"\n",
    "execute_query(connection,query)"
   ]
  },
  {
   "cell_type": "code",
   "execution_count": 107,
   "metadata": {},
   "outputs": [
    {
     "data": {
      "text/plain": [
       "742"
      ]
     },
     "execution_count": 107,
     "metadata": {},
     "output_type": "execute_result"
    }
   ],
   "source": [
    "#porting the values from the yelp dataframe into the table\n",
    "yelp_full_data.to_sql('yelp_search', connection, if_exists='replace', index=False)"
   ]
  },
  {
   "cell_type": "code",
   "execution_count": 93,
   "metadata": {},
   "outputs": [],
   "source": [
    "#function to execute queries\n",
    "def execute_read_query(connection, query):\n",
    "    cursor = connection.cursor()\n",
    "    result = None\n",
    "    try:\n",
    "        cursor.execute(query)\n",
    "        result = cursor.fetchall()\n",
    "        return result\n",
    "    except Error as e:\n",
    "        print(f\"The error '{e}' occurred\")"
   ]
  },
  {
   "cell_type": "code",
   "execution_count": 108,
   "metadata": {},
   "outputs": [
    {
     "name": "stdout",
     "output_type": "stream",
     "text": [
      "('Casa Calzone', 'CA', 'Quebec City', 24, 5.0, 'Grand Marché', 7, 8, 46.8294326924675, -71.24406570853023, 15)\n",
      "('Chez Carlos Café', 'CA', 'Quebec City', 6, 5.0, 'Grand Marché', 7, 8, 46.8294326924675, -71.24406570853023, 15)\n",
      "('Resto la Mama Grilled Cheese', 'CA', 'Québec City', 5, 4.5, 'Grand Marché', 7, 8, 46.8294326924675, -71.24406570853023, 15)\n",
      "('Sous-Marins le Marinier', 'CA', 'Quebec City', 3, 5.0, 'Grand Marché', 7, 8, 46.8294326924675, -71.24406570853023, 15)\n",
      "('Nguyen', 'CA', 'Quebec City', 2, 5.0, 'Grand Marché', 7, 8, 46.8294326924675, -71.24406570853023, 15)\n",
      "('Brûlerie Limilou', 'CA', 'Quebec City', 2, 4.0, 'Grand Marché', 7, 8, 46.8294326924675, -71.24406570853023, 15)\n",
      "('Mysa Sushi', 'CA', 'Quebec City', 2, 4.5, 'Grand Marché', 7, 8, 46.8294326924675, -71.24406570853023, 15)\n",
      "('La Merveille du Vietnam', 'CA', 'Quebec City', 4, 3.0, 'Grand Marché', 7, 8, 46.8294326924675, -71.24406570853023, 15)\n",
      "('Royal Tandori', 'CA', 'Quebec City', 3, 2.5, 'Grand Marché', 7, 8, 46.8294326924675, -71.24406570853023, 15)\n",
      "(\"East Side Mario's\", 'CA', 'Quebec City', 3, 3.5, 'Grand Marché', 7, 8, 46.8294326924675, -71.24406570853023, 15)\n"
     ]
    }
   ],
   "source": [
    "#query to test if data is properly imported\n",
    "query = 'SELECT * FROM yelp_search'\n",
    "test = execute_read_query(connection, query)\n",
    "for i in test[0:10]:\n",
    "    print(i)"
   ]
  },
  {
   "cell_type": "code",
   "execution_count": 98,
   "metadata": {},
   "outputs": [
    {
     "name": "stdout",
     "output_type": "stream",
     "text": [
      "Query executed successfully\n"
     ]
    }
   ],
   "source": [
    "#Creating the foursquare table inside the database\n",
    "query = \"\"\"CREATE TABLE IF NOT EXISTS foursquare_search(\n",
    "            name VARCHAR,\n",
    "            country TEXT,\n",
    "            city TEXT,\n",
    "            near_station VARCHAR,\n",
    "            empty_slots INT,\n",
    "            free_bikes INT,\n",
    "            latitude FLOAT,\n",
    "            longitude FLOAT,\n",
    "            total_bike INT)\n",
    "\"\"\"\n",
    "execute_query(connection, query)"
   ]
  },
  {
   "cell_type": "code",
   "execution_count": 103,
   "metadata": {},
   "outputs": [
    {
     "data": {
      "text/plain": [
       "146"
      ]
     },
     "execution_count": 103,
     "metadata": {},
     "output_type": "execute_result"
    }
   ],
   "source": [
    "#porting the values from the foursquare dataframe into the table\n",
    "fsquare_full_data.to_sql('foursquare_search', connection, if_exists='replace', index=False)"
   ]
  },
  {
   "cell_type": "code",
   "execution_count": 119,
   "metadata": {},
   "outputs": [
    {
     "name": "stdout",
     "output_type": "stream",
     "text": [
      "('Brasserie a la Source Martinière', 'CA', 'Québec', 'Grand Marché', 7, 8, 46.8294326924675, -71.24406570853023, 15)\n",
      "('Chez Mai', 'CA', 'Québec', 'Grand Marché', 7, 8, 46.8294326924675, -71.24406570853023, 15)\n",
      "('Frite Alors', 'CA', 'Québec', 'Parc Lockwell', 10, 9, 46.80619619977287, -71.22687366229286, 19)\n",
      "('Chez Victor', 'CA', 'Québec', 'Parc Lockwell', 10, 9, 46.80619619977287, -71.22687366229286, 19)\n",
      "('Café Sirocco', 'CA', 'Québec', 'Parc Lockwell', 10, 9, 46.80619619977287, -71.22687366229286, 19)\n",
      "('Sebz', 'CA', 'Québec', 'Parc Lockwell', 10, 9, 46.80619619977287, -71.22687366229286, 19)\n",
      "('Bugel Fabrique de Bagels Enr', 'CA', 'Québec', 'Parc Lockwell', 10, 9, 46.80619619977287, -71.22687366229286, 19)\n",
      "(\"Les Delices d'Ariana\", 'CA', 'Québec', 'Parc Lockwell', 10, 9, 46.80619619977287, -71.22687366229286, 19)\n",
      "('Restaurant Metropolitain', 'CA', 'Québec', 'Musée national des beaux-arts', 17, 2, 46.8014574117429, -71.22620529593462, 19)\n",
      "('Bistro B', 'CA', 'Québec', 'Musée national des beaux-arts', 17, 2, 46.8014574117429, -71.22620529593462, 19)\n"
     ]
    }
   ],
   "source": [
    "#query to test if data is properly imported\n",
    "query = 'SELECT * FROM foursquare_search'\n",
    "test = execute_read_query(connection, query)\n",
    "for i in test[0:10]:\n",
    "    print(i)"
   ]
  },
  {
   "cell_type": "markdown",
   "metadata": {},
   "source": [
    "Look at the data before and after the join to validate your data."
   ]
  },
  {
   "cell_type": "code",
   "execution_count": 111,
   "metadata": {},
   "outputs": [
    {
     "name": "stdout",
     "output_type": "stream",
     "text": [
      "<class 'pandas.core.frame.DataFrame'>\n",
      "RangeIndex: 742 entries, 0 to 741\n",
      "Data columns (total 11 columns):\n",
      " #   Column        Non-Null Count  Dtype  \n",
      "---  ------        --------------  -----  \n",
      " 0   name          742 non-null    object \n",
      " 1   country       742 non-null    object \n",
      " 2   city          742 non-null    object \n",
      " 3   review_count  742 non-null    int64  \n",
      " 4   rating        742 non-null    float64\n",
      " 5   near_station  742 non-null    object \n",
      " 6   empty_slots   742 non-null    int64  \n",
      " 7   free_bikes    742 non-null    int64  \n",
      " 8   latitude      742 non-null    float64\n",
      " 9   longitude     742 non-null    float64\n",
      " 10  total_bike    742 non-null    int64  \n",
      "dtypes: float64(3), int64(4), object(4)\n",
      "memory usage: 63.9+ KB\n"
     ]
    }
   ],
   "source": [
    "yelp_full_data.info()"
   ]
  },
  {
   "cell_type": "code",
   "execution_count": 112,
   "metadata": {},
   "outputs": [
    {
     "name": "stdout",
     "output_type": "stream",
     "text": [
      "<class 'pandas.core.frame.DataFrame'>\n",
      "RangeIndex: 146 entries, 0 to 145\n",
      "Data columns (total 9 columns):\n",
      " #   Column        Non-Null Count  Dtype  \n",
      "---  ------        --------------  -----  \n",
      " 0   name          146 non-null    object \n",
      " 1   country       146 non-null    object \n",
      " 2   locality      146 non-null    object \n",
      " 3   near_station  146 non-null    object \n",
      " 4   empty_slots   146 non-null    int64  \n",
      " 5   free_bikes    146 non-null    int64  \n",
      " 6   latitude      146 non-null    float64\n",
      " 7   longitude     146 non-null    float64\n",
      " 8   total_bike    146 non-null    int64  \n",
      "dtypes: float64(2), int64(3), object(4)\n",
      "memory usage: 10.4+ KB\n"
     ]
    }
   ],
   "source": [
    "fsquare_full_data.info()"
   ]
  }
 ],
 "metadata": {
  "kernelspec": {
   "display_name": "Python 3 (ipykernel)",
   "language": "python",
   "name": "python3"
  },
  "language_info": {
   "codemirror_mode": {
    "name": "ipython",
    "version": 3
   },
   "file_extension": ".py",
   "mimetype": "text/x-python",
   "name": "python",
   "nbconvert_exporter": "python",
   "pygments_lexer": "ipython3",
   "version": "3.9.13"
  }
 },
 "nbformat": 4,
 "nbformat_minor": 4
}
