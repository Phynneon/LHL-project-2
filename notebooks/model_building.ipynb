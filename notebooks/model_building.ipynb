{
 "cells": [
  {
   "cell_type": "code",
   "execution_count": 2,
   "metadata": {},
   "outputs": [],
   "source": [
    "#import\n",
    "import numpy as np\n",
    "import pandas as pd\n",
    "import statsmodels.api as sm"
   ]
  },
  {
   "cell_type": "markdown",
   "metadata": {},
   "source": [
    "Build a regression model."
   ]
  },
  {
   "cell_type": "code",
   "execution_count": 3,
   "metadata": {},
   "outputs": [],
   "source": [
    "#loading the dataframes created in part 3\n",
    "yelp_df = pd.read_csv('yelp df.csv')\n",
    "fsquare_df = pd.read_csv('fsquare df.csv')"
   ]
  },
  {
   "cell_type": "code",
   "execution_count": 4,
   "metadata": {},
   "outputs": [
    {
     "data": {
      "text/html": [
       "<div>\n",
       "<style scoped>\n",
       "    .dataframe tbody tr th:only-of-type {\n",
       "        vertical-align: middle;\n",
       "    }\n",
       "\n",
       "    .dataframe tbody tr th {\n",
       "        vertical-align: top;\n",
       "    }\n",
       "\n",
       "    .dataframe thead th {\n",
       "        text-align: right;\n",
       "    }\n",
       "</style>\n",
       "<table border=\"1\" class=\"dataframe\">\n",
       "  <thead>\n",
       "    <tr style=\"text-align: right;\">\n",
       "      <th></th>\n",
       "      <th>name</th>\n",
       "      <th>country</th>\n",
       "      <th>city</th>\n",
       "      <th>review_count</th>\n",
       "      <th>rating</th>\n",
       "      <th>near_station</th>\n",
       "      <th>empty_slots</th>\n",
       "      <th>free_bikes</th>\n",
       "      <th>latitude</th>\n",
       "      <th>longitude</th>\n",
       "      <th>total_bike</th>\n",
       "    </tr>\n",
       "  </thead>\n",
       "  <tbody>\n",
       "    <tr>\n",
       "      <th>0</th>\n",
       "      <td>Casa Calzone</td>\n",
       "      <td>CA</td>\n",
       "      <td>Quebec City</td>\n",
       "      <td>24</td>\n",
       "      <td>5.0</td>\n",
       "      <td>Grand Marché</td>\n",
       "      <td>7</td>\n",
       "      <td>8</td>\n",
       "      <td>46.829433</td>\n",
       "      <td>-71.244066</td>\n",
       "      <td>15</td>\n",
       "    </tr>\n",
       "    <tr>\n",
       "      <th>1</th>\n",
       "      <td>Chez Carlos Café</td>\n",
       "      <td>CA</td>\n",
       "      <td>Quebec City</td>\n",
       "      <td>6</td>\n",
       "      <td>5.0</td>\n",
       "      <td>Grand Marché</td>\n",
       "      <td>7</td>\n",
       "      <td>8</td>\n",
       "      <td>46.829433</td>\n",
       "      <td>-71.244066</td>\n",
       "      <td>15</td>\n",
       "    </tr>\n",
       "    <tr>\n",
       "      <th>2</th>\n",
       "      <td>Resto la Mama Grilled Cheese</td>\n",
       "      <td>CA</td>\n",
       "      <td>Québec City</td>\n",
       "      <td>5</td>\n",
       "      <td>4.5</td>\n",
       "      <td>Grand Marché</td>\n",
       "      <td>7</td>\n",
       "      <td>8</td>\n",
       "      <td>46.829433</td>\n",
       "      <td>-71.244066</td>\n",
       "      <td>15</td>\n",
       "    </tr>\n",
       "    <tr>\n",
       "      <th>3</th>\n",
       "      <td>Sous-Marins le Marinier</td>\n",
       "      <td>CA</td>\n",
       "      <td>Quebec City</td>\n",
       "      <td>3</td>\n",
       "      <td>5.0</td>\n",
       "      <td>Grand Marché</td>\n",
       "      <td>7</td>\n",
       "      <td>8</td>\n",
       "      <td>46.829433</td>\n",
       "      <td>-71.244066</td>\n",
       "      <td>15</td>\n",
       "    </tr>\n",
       "    <tr>\n",
       "      <th>4</th>\n",
       "      <td>Nguyen</td>\n",
       "      <td>CA</td>\n",
       "      <td>Quebec City</td>\n",
       "      <td>2</td>\n",
       "      <td>5.0</td>\n",
       "      <td>Grand Marché</td>\n",
       "      <td>7</td>\n",
       "      <td>8</td>\n",
       "      <td>46.829433</td>\n",
       "      <td>-71.244066</td>\n",
       "      <td>15</td>\n",
       "    </tr>\n",
       "  </tbody>\n",
       "</table>\n",
       "</div>"
      ],
      "text/plain": [
       "                           name country         city  review_count  rating  \\\n",
       "0                  Casa Calzone      CA  Quebec City            24     5.0   \n",
       "1              Chez Carlos Café      CA  Quebec City             6     5.0   \n",
       "2  Resto la Mama Grilled Cheese      CA  Québec City             5     4.5   \n",
       "3       Sous-Marins le Marinier      CA  Quebec City             3     5.0   \n",
       "4                        Nguyen      CA  Quebec City             2     5.0   \n",
       "\n",
       "   near_station  empty_slots  free_bikes   latitude  longitude  total_bike  \n",
       "0  Grand Marché            7           8  46.829433 -71.244066          15  \n",
       "1  Grand Marché            7           8  46.829433 -71.244066          15  \n",
       "2  Grand Marché            7           8  46.829433 -71.244066          15  \n",
       "3  Grand Marché            7           8  46.829433 -71.244066          15  \n",
       "4  Grand Marché            7           8  46.829433 -71.244066          15  "
      ]
     },
     "execution_count": 4,
     "metadata": {},
     "output_type": "execute_result"
    }
   ],
   "source": [
    "yelp_df.head()"
   ]
  },
  {
   "cell_type": "code",
   "execution_count": 6,
   "metadata": {},
   "outputs": [],
   "source": [
    "#setting up a linear regression model for number of bikes and restaurant rating\n",
    "x = yelp_df['total_bike']\n",
    "y = yelp_df['rating']\n",
    "\n",
    "x = sm.add_constant(x)\n",
    "lin_reg = sm.OLS(y,x)"
   ]
  },
  {
   "cell_type": "code",
   "execution_count": 10,
   "metadata": {},
   "outputs": [
    {
     "name": "stdout",
     "output_type": "stream",
     "text": [
      "                            OLS Regression Results                            \n",
      "==============================================================================\n",
      "Dep. Variable:                 rating   R-squared:                       0.003\n",
      "Model:                            OLS   Adj. R-squared:                  0.002\n",
      "Method:                 Least Squares   F-statistic:                     2.181\n",
      "Date:                Mon, 07 Nov 2022   Prob (F-statistic):              0.140\n",
      "Time:                        12:54:29   Log-Likelihood:                -654.52\n",
      "No. Observations:                 742   AIC:                             1313.\n",
      "Df Residuals:                     740   BIC:                             1322.\n",
      "Df Model:                           1                                         \n",
      "Covariance Type:            nonrobust                                         \n",
      "==============================================================================\n",
      "                 coef    std err          t      P>|t|      [0.025      0.975]\n",
      "------------------------------------------------------------------------------\n",
      "const          4.0305      0.145     27.837      0.000       3.746       4.315\n",
      "total_bike     0.0127      0.009      1.477      0.140      -0.004       0.030\n",
      "==============================================================================\n",
      "Omnibus:                      376.638   Durbin-Watson:                   2.005\n",
      "Prob(Omnibus):                  0.000   Jarque-Bera (JB):             2668.489\n",
      "Skew:                          -2.198   Prob(JB):                         0.00\n",
      "Kurtosis:                      11.185   Cond. No.                         114.\n",
      "==============================================================================\n",
      "\n",
      "Notes:\n",
      "[1] Standard Errors assume that the covariance matrix of the errors is correctly specified.\n"
     ]
    }
   ],
   "source": [
    "model = lin_reg.fit()\n",
    "print_model = model.summary()\n",
    "print(print_model)"
   ]
  },
  {
   "cell_type": "markdown",
   "metadata": {},
   "source": [
    "The R value is very close to 0, likely indicating that there is no relation between the number of bikes at a station and nearby restaurant ratings. The p value of total_bike is also beyond the threshold. "
   ]
  },
  {
   "cell_type": "markdown",
   "metadata": {},
   "source": [
    "Provide model output and an interpretation of the results. "
   ]
  },
  {
   "cell_type": "code",
   "execution_count": 11,
   "metadata": {},
   "outputs": [],
   "source": [
    "#setting up a linear regression model for number of bikes and restaurant review count\n",
    "x = yelp_df['total_bike']\n",
    "y = yelp_df['review_count']\n",
    "\n",
    "x = sm.add_constant(x)\n",
    "lin_reg = sm.OLS(y,x)"
   ]
  },
  {
   "cell_type": "code",
   "execution_count": 12,
   "metadata": {},
   "outputs": [
    {
     "name": "stdout",
     "output_type": "stream",
     "text": [
      "                            OLS Regression Results                            \n",
      "==============================================================================\n",
      "Dep. Variable:           review_count   R-squared:                       0.001\n",
      "Model:                            OLS   Adj. R-squared:                 -0.001\n",
      "Method:                 Least Squares   F-statistic:                    0.3922\n",
      "Date:                Mon, 07 Nov 2022   Prob (F-statistic):              0.531\n",
      "Time:                        12:55:50   Log-Likelihood:                -4876.2\n",
      "No. Observations:                 742   AIC:                             9756.\n",
      "Df Residuals:                     740   BIC:                             9766.\n",
      "Df Model:                           1                                         \n",
      "Covariance Type:            nonrobust                                         \n",
      "==============================================================================\n",
      "                 coef    std err          t      P>|t|      [0.025      0.975]\n",
      "------------------------------------------------------------------------------\n",
      "const        154.0832     42.825      3.598      0.000      70.011     238.155\n",
      "total_bike    -1.5951      2.547     -0.626      0.531      -6.595       3.405\n",
      "==============================================================================\n",
      "Omnibus:                      234.186   Durbin-Watson:                   0.933\n",
      "Prob(Omnibus):                  0.000   Jarque-Bera (JB):              518.926\n",
      "Skew:                           1.761   Prob(JB):                    2.07e-113\n",
      "Kurtosis:                       5.092   Cond. No.                         114.\n",
      "==============================================================================\n",
      "\n",
      "Notes:\n",
      "[1] Standard Errors assume that the covariance matrix of the errors is correctly specified.\n"
     ]
    }
   ],
   "source": [
    "model = lin_reg.fit()\n",
    "print_model = model.summary()\n",
    "print(print_model)"
   ]
  },
  {
   "cell_type": "markdown",
   "metadata": {},
   "source": [
    "The R value is also very close to 0, meaning there is likely not any correlation between the number of bikes a station has and how many reviews are given to the nearby restaurants. the p value of total_bike is also very high, meaning the variable is non-significant with regard to the regression model. "
   ]
  },
  {
   "cell_type": "code",
   "execution_count": 29,
   "metadata": {},
   "outputs": [],
   "source": [
    "#an attempt to see if the number of nearby restaurant is correlated with the number of bikes at a station\n",
    "y = yelp_df.groupby(by='near_station').count()['name'].sort_values()\n",
    "x = yelp_df[['near_station','total_bike']].drop_duplicates(keep='first')['total_bike']\n",
    "y.index = np.arange(0,39)\n",
    "x.index = np.arange(0,39)\n",
    "x = sm.add_constant(x)\n",
    "lin_reg = sm.OLS(y,x)"
   ]
  },
  {
   "cell_type": "code",
   "execution_count": 30,
   "metadata": {},
   "outputs": [
    {
     "name": "stdout",
     "output_type": "stream",
     "text": [
      "                            OLS Regression Results                            \n",
      "==============================================================================\n",
      "Dep. Variable:                   name   R-squared:                       0.002\n",
      "Model:                            OLS   Adj. R-squared:                 -0.025\n",
      "Method:                 Least Squares   F-statistic:                   0.07199\n",
      "Date:                Mon, 07 Nov 2022   Prob (F-statistic):              0.790\n",
      "Time:                        13:10:14   Log-Likelihood:                -86.481\n",
      "No. Observations:                  39   AIC:                             177.0\n",
      "Df Residuals:                      37   BIC:                             180.3\n",
      "Df Model:                           1                                         \n",
      "Covariance Type:            nonrobust                                         \n",
      "==============================================================================\n",
      "                 coef    std err          t      P>|t|      [0.025      0.975]\n",
      "------------------------------------------------------------------------------\n",
      "const         18.3678      2.479      7.410      0.000      13.345      23.390\n",
      "total_bike     0.0397      0.148      0.268      0.790      -0.260       0.340\n",
      "==============================================================================\n",
      "Omnibus:                       30.296   Durbin-Watson:                   0.065\n",
      "Prob(Omnibus):                  0.000   Jarque-Bera (JB):               54.201\n",
      "Skew:                          -2.239   Prob(JB):                     1.70e-12\n",
      "Kurtosis:                       6.647   Cond. No.                         114.\n",
      "==============================================================================\n",
      "\n",
      "Notes:\n",
      "[1] Standard Errors assume that the covariance matrix of the errors is correctly specified.\n"
     ]
    }
   ],
   "source": [
    "model = lin_reg.fit()\n",
    "print_model = model.summary()\n",
    "print(print_model)"
   ]
  },
  {
   "cell_type": "markdown",
   "metadata": {},
   "source": [
    "The result shows that there are no correlation between the number of nearby restaurants and the number of bikes at a station."
   ]
  },
  {
   "cell_type": "code",
   "execution_count": 31,
   "metadata": {},
   "outputs": [],
   "source": [
    "#Attempt to do a multivariable regression\n",
    "y = yelp_df['total_bike']\n",
    "x = yelp_df[['review_count','rating']]\n",
    "\n",
    "x = sm.add_constant(x)\n",
    "lin_reg = sm.OLS(y,x)"
   ]
  },
  {
   "cell_type": "code",
   "execution_count": 32,
   "metadata": {},
   "outputs": [
    {
     "name": "stdout",
     "output_type": "stream",
     "text": [
      "                            OLS Regression Results                            \n",
      "==============================================================================\n",
      "Dep. Variable:             total_bike   R-squared:                       0.004\n",
      "Model:                            OLS   Adj. R-squared:                  0.001\n",
      "Method:                 Least Squares   F-statistic:                     1.309\n",
      "Date:                Mon, 07 Nov 2022   Prob (F-statistic):              0.271\n",
      "Time:                        13:15:10   Log-Likelihood:                -1730.1\n",
      "No. Observations:                 742   AIC:                             3466.\n",
      "Df Residuals:                     739   BIC:                             3480.\n",
      "Df Model:                           2                                         \n",
      "Covariance Type:            nonrobust                                         \n",
      "================================================================================\n",
      "                   coef    std err          t      P>|t|      [0.025      0.975]\n",
      "--------------------------------------------------------------------------------\n",
      "const           15.6822      0.672     23.327      0.000      14.362      17.002\n",
      "review_count    -0.0004      0.001     -0.662      0.508      -0.001       0.001\n",
      "rating           0.2335      0.157      1.491      0.136      -0.074       0.541\n",
      "==============================================================================\n",
      "Omnibus:                       71.482   Durbin-Watson:                   0.127\n",
      "Prob(Omnibus):                  0.000   Jarque-Bera (JB):               91.516\n",
      "Skew:                           0.858   Prob(JB):                     1.34e-20\n",
      "Kurtosis:                       2.882   Cond. No.                     1.62e+03\n",
      "==============================================================================\n",
      "\n",
      "Notes:\n",
      "[1] Standard Errors assume that the covariance matrix of the errors is correctly specified.\n",
      "[2] The condition number is large, 1.62e+03. This might indicate that there are\n",
      "strong multicollinearity or other numerical problems.\n"
     ]
    }
   ],
   "source": [
    "model = lin_reg.fit()\n",
    "print_model = model.summary()\n",
    "print(print_model)"
   ]
  },
  {
   "cell_type": "markdown",
   "metadata": {},
   "source": [
    "The multivariable regression also shows that there are no correlation between the rating and review number of nearby restaurants and the number of bikes at a station."
   ]
  },
  {
   "cell_type": "markdown",
   "metadata": {},
   "source": [
    "# Stretch"
   ]
  },
  {
   "cell_type": "code",
   "execution_count": null,
   "metadata": {},
   "outputs": [],
   "source": []
  },
  {
   "cell_type": "markdown",
   "metadata": {},
   "source": [
    "How can you turn the regression model into a classification model?"
   ]
  },
  {
   "cell_type": "code",
   "execution_count": null,
   "metadata": {},
   "outputs": [],
   "source": []
  }
 ],
 "metadata": {
  "kernelspec": {
   "display_name": "Python 3 (ipykernel)",
   "language": "python",
   "name": "python3"
  },
  "language_info": {
   "codemirror_mode": {
    "name": "ipython",
    "version": 3
   },
   "file_extension": ".py",
   "mimetype": "text/x-python",
   "name": "python",
   "nbconvert_exporter": "python",
   "pygments_lexer": "ipython3",
   "version": "3.9.13"
  }
 },
 "nbformat": 4,
 "nbformat_minor": 4
}
