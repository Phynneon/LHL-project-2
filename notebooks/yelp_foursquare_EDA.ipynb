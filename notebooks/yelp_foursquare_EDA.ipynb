{
 "cells": [
  {
   "cell_type": "code",
   "execution_count": 1,
   "metadata": {},
   "outputs": [],
   "source": [
    "# imports\n",
    "import numpy as np\n",
    "import pandas as pd\n",
    "import sqlite3 as sq3\n",
    "import requests\n",
    "import os"
   ]
  },
  {
   "cell_type": "markdown",
   "metadata": {},
   "source": [
    "# Foursquare"
   ]
  },
  {
   "cell_type": "markdown",
   "metadata": {},
   "source": [
    "Send a request to Foursquare with a small radius (1000m) for all the bike stations in your city of choice. "
   ]
  },
  {
   "cell_type": "code",
   "execution_count": 2,
   "metadata": {},
   "outputs": [],
   "source": [
    "#importing the bike station data from the previous section\n",
    "bike_data = pd.read_csv('bike_data.csv')\n",
    "longitude = bike_data['longitude']\n",
    "latitude = bike_data['latitude']"
   ]
  },
  {
   "cell_type": "code",
   "execution_count": 3,
   "metadata": {},
   "outputs": [],
   "source": [
    "#Setting up API key\n",
    "foursquare_key = os.environ['FOURSQUARE_API_KEY']"
   ]
  },
  {
   "cell_type": "code",
   "execution_count": 4,
   "metadata": {},
   "outputs": [
    {
     "name": "stdout",
     "output_type": "stream",
     "text": [
      "https://api.foursquare.com/v3/places/search?ll=46.8294326924675,-71.24406570853023&radius=1000\n"
     ]
    }
   ],
   "source": [
    "#Setting up foursqaure test url\n",
    "url = 'https://api.foursquare.com/v3/places/search?ll=' + str(latitude[0]) + ',' + str(longitude[0]) +'&radius=1000'\n",
    "print(url)\n",
    "headers = {\"Accept\":\"application/json\"}\n",
    "headers['Authorization'] = foursquare_key\n",
    "result = requests.get(url,headers = headers)"
   ]
  },
  {
   "cell_type": "code",
   "execution_count": 5,
   "metadata": {},
   "outputs": [
    {
     "data": {
      "text/plain": [
       "'Grocery Store / Supermarket'"
      ]
     },
     "execution_count": 5,
     "metadata": {},
     "output_type": "execute_result"
    }
   ],
   "source": [
    "#checking the test data to see if the relevant information is present\n",
    "foursquare_data = result.json()\n",
    "foursquare_data['results'][0]['categories'][0]['name']"
   ]
  },
  {
   "cell_type": "code",
   "execution_count": 6,
   "metadata": {},
   "outputs": [],
   "source": [
    "fsquare_list = []\n",
    "for i in range(len(latitude)):\n",
    "    url = 'https://api.foursquare.com/v3/places/search?ll=' + str(latitude[i]) + ',' + str(longitude[i]) +'&radius=1000'\n",
    "    headers = {\"Accept\":\"application/json\"}\n",
    "    headers['Authorization'] = foursquare_key\n",
    "    result_test = requests.get(url, headers=headers)\n",
    "    fsquare_list.append(result_test.json())"
   ]
  },
  {
   "cell_type": "markdown",
   "metadata": {},
   "source": [
    "Parse through the response to get the POI (such as restaurants, bars, etc) details you want (ratings, name, location, etc)"
   ]
  },
  {
   "cell_type": "code",
   "execution_count": 8,
   "metadata": {},
   "outputs": [],
   "source": [
    "#function to filter restaurants in foursquare search\n",
    "def restaurant_filter(df):\n",
    "    restaurant = []\n",
    "    for i in range(len(df['results'])):\n",
    "        for n in range(len(df['results'][i]['categories'])):\n",
    "            if 'Restaurant' in df['results'][i]['categories'][n]['name']:\n",
    "                restaurant.append(df['results'][i])\n",
    "                break\n",
    "    return restaurant"
   ]
  },
  {
   "cell_type": "code",
   "execution_count": 9,
   "metadata": {},
   "outputs": [],
   "source": [
    "restaurant_data =[]\n",
    "for i in range(len(fsquare_list)):\n",
    "    restaurant_data.append(restaurant_filter(fsquare_list[i]))"
   ]
  },
  {
   "cell_type": "code",
   "execution_count": 14,
   "metadata": {},
   "outputs": [
    {
     "data": {
      "text/html": [
       "<div>\n",
       "<style scoped>\n",
       "    .dataframe tbody tr th:only-of-type {\n",
       "        vertical-align: middle;\n",
       "    }\n",
       "\n",
       "    .dataframe tbody tr th {\n",
       "        vertical-align: top;\n",
       "    }\n",
       "\n",
       "    .dataframe thead th {\n",
       "        text-align: right;\n",
       "    }\n",
       "</style>\n",
       "<table border=\"1\" class=\"dataframe\">\n",
       "  <thead>\n",
       "    <tr style=\"text-align: right;\">\n",
       "      <th></th>\n",
       "      <th>name</th>\n",
       "      <th>country</th>\n",
       "      <th>locality</th>\n",
       "      <th>near_station</th>\n",
       "    </tr>\n",
       "  </thead>\n",
       "  <tbody>\n",
       "  </tbody>\n",
       "</table>\n",
       "</div>"
      ],
      "text/plain": [
       "Empty DataFrame\n",
       "Columns: [name, country, locality, near_station]\n",
       "Index: []"
      ]
     },
     "execution_count": 14,
     "metadata": {},
     "output_type": "execute_result"
    }
   ],
   "source": [
    "#Creating a dataframe\n",
    "fs_food_data = pd.DataFrame(columns=['name','country','locality','near_station'])\n",
    "fs_food_data"
   ]
  },
  {
   "cell_type": "code",
   "execution_count": 15,
   "metadata": {},
   "outputs": [],
   "source": [
    "#function to extract data from the previously filtered list into a Dataframe\n",
    "def data_extract(df, food_data, bike_data):\n",
    "    for i in range(len(food_data)):\n",
    "        for n in range(len(food_data[i])):\n",
    "            name = food_data[i][n]['name']\n",
    "            country = food_data[i][n]['location']['country']\n",
    "            locality = food_data[i][n]['location']['locality']\n",
    "            near_station = bike_data['name'][i]\n",
    "            info = pd.Series({'name':name, 'country':country, 'locality':locality, 'near_station':near_station})\n",
    "            print(info)\n",
    "            df = pd.concat([df,info.to_frame().T],ignore_index=True)\n",
    "    \n",
    "    return df"
   ]
  },
  {
   "cell_type": "markdown",
   "metadata": {},
   "source": [
    "Put your parsed results into a DataFrame"
   ]
  },
  {
   "cell_type": "code",
   "execution_count": null,
   "metadata": {},
   "outputs": [],
   "source": [
    "#applying the extraction function\n",
    "fs_food_data = data_extract(fs_food_data, restaurant_data, bike_data)"
   ]
  },
  {
   "cell_type": "code",
   "execution_count": 119,
   "metadata": {},
   "outputs": [],
   "source": [
    "#exporting the resulting dataframe to a csv file\n",
    "fs_food_data.to_csv('foursquare_food.csv', index=False)"
   ]
  },
  {
   "cell_type": "markdown",
   "metadata": {},
   "source": [
    "# Yelp"
   ]
  },
  {
   "cell_type": "code",
   "execution_count": 21,
   "metadata": {},
   "outputs": [],
   "source": [
    "#Setting up Yelp API key\n",
    "yelp_key = os.environ['yelp_api_key']"
   ]
  },
  {
   "cell_type": "markdown",
   "metadata": {},
   "source": [
    "Send a request to Yelp with a small radius (1000m) for all the bike stations in your city of choice. "
   ]
  },
  {
   "cell_type": "code",
   "execution_count": 78,
   "metadata": {},
   "outputs": [
    {
     "data": {
      "text/plain": [
       "<Response [200]>"
      ]
     },
     "execution_count": 78,
     "metadata": {},
     "output_type": "execute_result"
    }
   ],
   "source": [
    "#testing url response\n",
    "url_yelp = 'https://api.yelp.com/v3/businesses/search?categories=restaurants&latitude=46.829433&longitude=-71.244066&radius=1000'\n",
    "headers = {\"Accept\":\"application/json\"}\n",
    "headers['Authorization'] = 'Bearer ' + yelp_key\n",
    "result_yelp = requests.get(url_yelp ,headers = headers)\n",
    "result_yelp"
   ]
  },
  {
   "cell_type": "code",
   "execution_count": 22,
   "metadata": {},
   "outputs": [],
   "source": [
    "yelp_list =[]\n",
    "\n",
    "#Getting the data for restaurant near each stations\n",
    "for i in range(len(latitude)):\n",
    "    url_yelp = 'https://api.yelp.com/v3/businesses/search?categories=restaurants&latitude=' + str(latitude[i]) + '&longitude=' + str(longitude[i]) +'&radius=1000'\n",
    "    headers = {\"Accept\":\"application/json\"}\n",
    "    headers['Authorization'] = 'Bearer ' + yelp_key\n",
    "    result_yelp = requests.get(url_yelp, headers=headers)\n",
    "    yelp_list.append(result_yelp.json())"
   ]
  },
  {
   "cell_type": "code",
   "execution_count": 23,
   "metadata": {},
   "outputs": [
    {
     "data": {
      "text/plain": [
       "{'id': 'pKRPuTHpUISDKgXUyAMYIQ',\n",
       " 'alias': 'casa-calzone-québec-5',\n",
       " 'name': 'Casa Calzone',\n",
       " 'image_url': 'https://s3-media1.fl.yelpcdn.com/bphoto/q2lNYNUDOmkhfleYdooxnw/o.jpg',\n",
       " 'is_closed': False,\n",
       " 'url': 'https://www.yelp.com/biz/casa-calzone-qu%C3%A9bec-5?adjust_creative=O6St2lkB-rsXWIoV6gzvTQ&utm_campaign=yelp_api_v3&utm_medium=api_v3_business_search&utm_source=O6St2lkB-rsXWIoV6gzvTQ',\n",
       " 'review_count': 24,\n",
       " 'categories': [{'alias': 'italian', 'title': 'Italian'}],\n",
       " 'rating': 5.0,\n",
       " 'coordinates': {'latitude': 46.8223786, 'longitude': -71.2415612},\n",
       " 'transactions': [],\n",
       " 'price': '$$',\n",
       " 'location': {'address1': '1298 Rue de la Pointe-aux-Lièvres',\n",
       "  'address2': '',\n",
       "  'address3': '',\n",
       "  'city': 'Quebec City',\n",
       "  'zip_code': 'G1L 4L9',\n",
       "  'country': 'CA',\n",
       "  'state': 'QC',\n",
       "  'display_address': ['1298 Rue de la Pointe-aux-Lièvres',\n",
       "   'Quebec City, QC G1L 4L9',\n",
       "   'Canada']},\n",
       " 'phone': '+14185223000',\n",
       " 'display_phone': '+1 418-522-3000',\n",
       " 'distance': 807.1911234743243}"
      ]
     },
     "execution_count": 23,
     "metadata": {},
     "output_type": "execute_result"
    }
   ],
   "source": [
    "#a detailed look at an example element of the yelp list\n",
    "yelp_list[0]['businesses'][0]"
   ]
  },
  {
   "cell_type": "markdown",
   "metadata": {},
   "source": [
    "Parse through the response to get the POI (such as restaurants, bars, etc) details you want (ratings, name, location, etc)"
   ]
  },
  {
   "cell_type": "code",
   "execution_count": 24,
   "metadata": {},
   "outputs": [
    {
     "data": {
      "text/html": [
       "<div>\n",
       "<style scoped>\n",
       "    .dataframe tbody tr th:only-of-type {\n",
       "        vertical-align: middle;\n",
       "    }\n",
       "\n",
       "    .dataframe tbody tr th {\n",
       "        vertical-align: top;\n",
       "    }\n",
       "\n",
       "    .dataframe thead th {\n",
       "        text-align: right;\n",
       "    }\n",
       "</style>\n",
       "<table border=\"1\" class=\"dataframe\">\n",
       "  <thead>\n",
       "    <tr style=\"text-align: right;\">\n",
       "      <th></th>\n",
       "      <th>name</th>\n",
       "      <th>country</th>\n",
       "      <th>city</th>\n",
       "      <th>review_count</th>\n",
       "      <th>rating</th>\n",
       "      <th>near_station</th>\n",
       "    </tr>\n",
       "  </thead>\n",
       "  <tbody>\n",
       "  </tbody>\n",
       "</table>\n",
       "</div>"
      ],
      "text/plain": [
       "Empty DataFrame\n",
       "Columns: [name, country, city, review_count, rating, near_station]\n",
       "Index: []"
      ]
     },
     "execution_count": 24,
     "metadata": {},
     "output_type": "execute_result"
    }
   ],
   "source": [
    "#Creatin the yelp dataframe\n",
    "yelp_food_data = pd.DataFrame(columns=['name','country','city','review_count','rating','near_station'])\n",
    "yelp_food_data"
   ]
  },
  {
   "cell_type": "code",
   "execution_count": 25,
   "metadata": {},
   "outputs": [],
   "source": [
    "#function to extract information from the Yelp search\n",
    "def data_extract_yelp(df, food_data, bike_data):\n",
    "    for i in range(len(food_data)):\n",
    "        for n in range(len(food_data[i]['businesses'])):\n",
    "            name = food_data[i]['businesses'][n]['name']\n",
    "            country = food_data[i]['businesses'][n]['location']['country']\n",
    "            city = food_data[i]['businesses'][n]['location']['city']\n",
    "            review_count = food_data[i]['businesses'][n]['review_count']\n",
    "            rating = food_data[i]['businesses'][n]['rating']\n",
    "            near_station = bike_data['name'][i]\n",
    "            info = pd.Series({'name':name, \n",
    "                              'country':country, \n",
    "                              'city':city, \n",
    "                              'review_count':review_count,\n",
    "                              'rating':rating,\n",
    "                              'near_station':near_station})\n",
    "            df = pd.concat([df,info.to_frame().T],ignore_index=True)\n",
    "    return df"
   ]
  },
  {
   "cell_type": "markdown",
   "metadata": {},
   "source": [
    "Put your parsed results into a DataFrame"
   ]
  },
  {
   "cell_type": "code",
   "execution_count": 26,
   "metadata": {},
   "outputs": [],
   "source": [
    "#extracting the data into the yelp dataframe\n",
    "yelp_food_data = data_extract_yelp(yelp_food_data, yelp_list, bike_data)"
   ]
  },
  {
   "cell_type": "code",
   "execution_count": 27,
   "metadata": {},
   "outputs": [
    {
     "data": {
      "text/html": [
       "<div>\n",
       "<style scoped>\n",
       "    .dataframe tbody tr th:only-of-type {\n",
       "        vertical-align: middle;\n",
       "    }\n",
       "\n",
       "    .dataframe tbody tr th {\n",
       "        vertical-align: top;\n",
       "    }\n",
       "\n",
       "    .dataframe thead th {\n",
       "        text-align: right;\n",
       "    }\n",
       "</style>\n",
       "<table border=\"1\" class=\"dataframe\">\n",
       "  <thead>\n",
       "    <tr style=\"text-align: right;\">\n",
       "      <th></th>\n",
       "      <th>name</th>\n",
       "      <th>country</th>\n",
       "      <th>city</th>\n",
       "      <th>review_count</th>\n",
       "      <th>rating</th>\n",
       "      <th>near_station</th>\n",
       "    </tr>\n",
       "  </thead>\n",
       "  <tbody>\n",
       "    <tr>\n",
       "      <th>0</th>\n",
       "      <td>Casa Calzone</td>\n",
       "      <td>CA</td>\n",
       "      <td>Quebec City</td>\n",
       "      <td>24</td>\n",
       "      <td>5.0</td>\n",
       "      <td>Grand Marché</td>\n",
       "    </tr>\n",
       "    <tr>\n",
       "      <th>1</th>\n",
       "      <td>Chez Carlos Café</td>\n",
       "      <td>CA</td>\n",
       "      <td>Quebec City</td>\n",
       "      <td>6</td>\n",
       "      <td>5.0</td>\n",
       "      <td>Grand Marché</td>\n",
       "    </tr>\n",
       "    <tr>\n",
       "      <th>2</th>\n",
       "      <td>Resto la Mama Grilled Cheese</td>\n",
       "      <td>CA</td>\n",
       "      <td>Québec City</td>\n",
       "      <td>5</td>\n",
       "      <td>4.5</td>\n",
       "      <td>Grand Marché</td>\n",
       "    </tr>\n",
       "    <tr>\n",
       "      <th>3</th>\n",
       "      <td>Sous-Marins le Marinier</td>\n",
       "      <td>CA</td>\n",
       "      <td>Quebec City</td>\n",
       "      <td>3</td>\n",
       "      <td>5.0</td>\n",
       "      <td>Grand Marché</td>\n",
       "    </tr>\n",
       "    <tr>\n",
       "      <th>4</th>\n",
       "      <td>Nguyen</td>\n",
       "      <td>CA</td>\n",
       "      <td>Quebec City</td>\n",
       "      <td>2</td>\n",
       "      <td>5.0</td>\n",
       "      <td>Grand Marché</td>\n",
       "    </tr>\n",
       "    <tr>\n",
       "      <th>...</th>\n",
       "      <td>...</td>\n",
       "      <td>...</td>\n",
       "      <td>...</td>\n",
       "      <td>...</td>\n",
       "      <td>...</td>\n",
       "      <td>...</td>\n",
       "    </tr>\n",
       "    <tr>\n",
       "      <th>737</th>\n",
       "      <td>La Boîte à Pain</td>\n",
       "      <td>CA</td>\n",
       "      <td>Quebec City</td>\n",
       "      <td>101</td>\n",
       "      <td>4.0</td>\n",
       "      <td>Parc John-Munn</td>\n",
       "    </tr>\n",
       "    <tr>\n",
       "      <th>738</th>\n",
       "      <td>L'ENTRECOTE SAINT-JEAN</td>\n",
       "      <td>CA</td>\n",
       "      <td>Quebec City</td>\n",
       "      <td>160</td>\n",
       "      <td>4.0</td>\n",
       "      <td>Parc John-Munn</td>\n",
       "    </tr>\n",
       "    <tr>\n",
       "      <th>739</th>\n",
       "      <td>La Pizzaio</td>\n",
       "      <td>CA</td>\n",
       "      <td>Quebec City</td>\n",
       "      <td>37</td>\n",
       "      <td>5.0</td>\n",
       "      <td>Parc John-Munn</td>\n",
       "    </tr>\n",
       "    <tr>\n",
       "      <th>740</th>\n",
       "      <td>Casse-Crêpe Breton</td>\n",
       "      <td>CA</td>\n",
       "      <td>Quebec City</td>\n",
       "      <td>325</td>\n",
       "      <td>3.5</td>\n",
       "      <td>Parc John-Munn</td>\n",
       "    </tr>\n",
       "    <tr>\n",
       "      <th>741</th>\n",
       "      <td>Chez Gaston</td>\n",
       "      <td>CA</td>\n",
       "      <td>Quebec City</td>\n",
       "      <td>53</td>\n",
       "      <td>4.5</td>\n",
       "      <td>Parc John-Munn</td>\n",
       "    </tr>\n",
       "  </tbody>\n",
       "</table>\n",
       "<p>742 rows × 6 columns</p>\n",
       "</div>"
      ],
      "text/plain": [
       "                             name country         city review_count rating  \\\n",
       "0                    Casa Calzone      CA  Quebec City           24    5.0   \n",
       "1                Chez Carlos Café      CA  Quebec City            6    5.0   \n",
       "2    Resto la Mama Grilled Cheese      CA  Québec City            5    4.5   \n",
       "3         Sous-Marins le Marinier      CA  Quebec City            3    5.0   \n",
       "4                          Nguyen      CA  Quebec City            2    5.0   \n",
       "..                            ...     ...          ...          ...    ...   \n",
       "737               La Boîte à Pain      CA  Quebec City          101    4.0   \n",
       "738        L'ENTRECOTE SAINT-JEAN      CA  Quebec City          160    4.0   \n",
       "739                    La Pizzaio      CA  Quebec City           37    5.0   \n",
       "740            Casse-Crêpe Breton      CA  Quebec City          325    3.5   \n",
       "741                   Chez Gaston      CA  Quebec City           53    4.5   \n",
       "\n",
       "       near_station  \n",
       "0      Grand Marché  \n",
       "1      Grand Marché  \n",
       "2      Grand Marché  \n",
       "3      Grand Marché  \n",
       "4      Grand Marché  \n",
       "..              ...  \n",
       "737  Parc John-Munn  \n",
       "738  Parc John-Munn  \n",
       "739  Parc John-Munn  \n",
       "740  Parc John-Munn  \n",
       "741  Parc John-Munn  \n",
       "\n",
       "[742 rows x 6 columns]"
      ]
     },
     "execution_count": 27,
     "metadata": {},
     "output_type": "execute_result"
    }
   ],
   "source": [
    "#the yelp dataframe\n",
    "yelp_food_data"
   ]
  },
  {
   "cell_type": "code",
   "execution_count": 120,
   "metadata": {},
   "outputs": [],
   "source": [
    "#Exporting the data into csv file\n",
    "yelp_food_data.to_csv('yelp_food.csv', index = False)"
   ]
  },
  {
   "cell_type": "markdown",
   "metadata": {},
   "source": []
  },
  {
   "cell_type": "markdown",
   "metadata": {},
   "source": [
    "# Comparing Results"
   ]
  },
  {
   "cell_type": "markdown",
   "metadata": {},
   "source": [
    "Which API provided you with more complete data? Provide an explanation. "
   ]
  },
  {
   "cell_type": "markdown",
   "metadata": {},
   "source": []
  },
  {
   "cell_type": "markdown",
   "metadata": {},
   "source": [
    "Get the top 10 restaurants according to their rating"
   ]
  },
  {
   "cell_type": "markdown",
   "metadata": {},
   "source": [
    "It is not possible to compare rating in this senario because the foursquare API did not provide any rating information for the establishments surveyed. However, it can be noted that the Yelp search resulted in 742 results while the foursquare search only provided 146 results. Also, the Yelp search provided much more information such as review_count, ratings, price and such. It can be concluded that Yelp yielded the better data in this senario. "
   ]
  }
 ],
 "metadata": {
  "kernelspec": {
   "display_name": "Python 3 (ipykernel)",
   "language": "python",
   "name": "python3"
  },
  "language_info": {
   "codemirror_mode": {
    "name": "ipython",
    "version": 3
   },
   "file_extension": ".py",
   "mimetype": "text/x-python",
   "name": "python",
   "nbconvert_exporter": "python",
   "pygments_lexer": "ipython3",
   "version": "3.9.13"
  }
 },
 "nbformat": 4,
 "nbformat_minor": 4
}
